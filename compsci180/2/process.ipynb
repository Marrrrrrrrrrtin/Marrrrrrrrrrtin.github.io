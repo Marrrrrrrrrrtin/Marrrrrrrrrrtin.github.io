{
 "cells": [
  {
   "cell_type": "code",
   "execution_count": 4,
   "id": "927dca2b",
   "metadata": {},
   "outputs": [
    {
     "name": "stdout",
     "output_type": "stream",
     "text": [
      "const FILES = [\n",
      "  'cathedral.jpg',\n",
      "  'church.jpg',\n",
      "  'emir.jpg',\n",
      "  'harvesters.jpg',\n",
      "  'icon.jpg',\n",
      "  'italil.jpg',\n",
      "  'lastochikino.jpg',\n",
      "  'lugano.jpg',\n",
      "  'melons.jpg',\n",
      "  'monastery.jpg',\n",
      "  'self_portrait.jpg',\n",
      "  'siren.jpg',\n",
      "  'three_generations.jpg',\n",
      "  'tobolsk.jpg',\n",
      "  'zimu_selection_1.jpg',\n",
      "  'zimu_selection_2.jpg',\n",
      "  'zimu_selection_3.jpg',\n",
      "];\n"
     ]
    }
   ],
   "source": [
    "import os\n",
    "\n",
    "# Folder containing your images\n",
    "folder = \"images\"\n",
    "\n",
    "# Get all file names (filter common image types)\n",
    "files = [f for f in os.listdir(folder) if f.lower().endswith((\".jpg\", \".jpeg\", \".png\", \".webp\"))]\n",
    "\n",
    "# Sort alphabetically (optional)\n",
    "files.sort()\n",
    "\n",
    "# Print in JavaScript array format\n",
    "print(\"const FILES = [\")\n",
    "for f in files:\n",
    "    print(f\"  '{f}',\")\n",
    "print(\"];\")\n"
   ]
  },
  {
   "cell_type": "code",
   "execution_count": 2,
   "id": "afc0dec3",
   "metadata": {},
   "outputs": [
    {
     "name": "stdout",
     "output_type": "stream",
     "text": [
      "Renamed: self_portrait_out.jpg -> self_portrait.jpg\n",
      "Renamed: harvesters_out.jpg -> harvesters.jpg\n",
      "Renamed: self3_out.jpg -> self3.jpg\n",
      "Renamed: three_generations_out.jpg -> three_generations.jpg\n",
      "Renamed: self2_out.jpg -> self2.jpg\n",
      "Renamed: lastochikino_out.jpg -> lastochikino.jpg\n",
      "Renamed: italil_out.jpg -> italil.jpg\n",
      "Renamed: self1_out.jpg -> self1.jpg\n",
      "Renamed: emir_out.jpg -> emir.jpg\n",
      "Renamed: icon_out.jpg -> icon.jpg\n",
      "Renamed: monastery_out.jpg -> monastery.jpg\n",
      "Renamed: tobolsk_out.jpg -> tobolsk.jpg\n",
      "Renamed: melons_out.jpg -> melons.jpg\n",
      "Renamed: lugano_out.jpg -> lugano.jpg\n",
      "Renamed: cathedral_out.jpg -> cathedral.jpg\n",
      "Renamed: church_out.jpg -> church.jpg\n",
      "Renamed: siren_out.jpg -> siren.jpg\n"
     ]
    }
   ],
   "source": [
    "import os\n",
    "\n",
    "folder = \"images\"\n",
    "\n",
    "for fname in os.listdir(folder):\n",
    "    if \"_out\" in fname:\n",
    "        new_name = fname.replace(\"_out\", \"\")\n",
    "        old_path = os.path.join(folder, fname)\n",
    "        new_path = os.path.join(folder, new_name)\n",
    "        os.rename(old_path, new_path)\n",
    "        print(f\"Renamed: {fname} -> {new_name}\")"
   ]
  },
  {
   "cell_type": "code",
   "execution_count": 8,
   "id": "76b39373",
   "metadata": {},
   "outputs": [
    {
     "name": "stdout",
     "output_type": "stream",
     "text": [
      "Loaded zimu_selection_3.csv for image zimu_selection_3.jpg\n",
      "Loaded zimu_selection_2.csv for image zimu_selection_2.jpg\n",
      "Loaded icon.csv for image icon.jpg\n",
      "Loaded lastochikino.csv for image lastochikino.jpg\n",
      "Loaded zimu_selection_1.csv for image zimu_selection_1.jpg\n",
      "Loaded melons.csv for image melons.jpg\n",
      "Loaded lugano.csv for image lugano.jpg\n",
      "Loaded monastery.csv for image monastery.jpg\n",
      "Loaded italil.csv for image italil.jpg\n",
      "Loaded three_generations.csv for image three_generations.jpg\n",
      "Loaded church.csv for image church.jpg\n",
      "Loaded tobolsk.csv for image tobolsk.jpg\n",
      "Loaded emir.csv for image emir.jpg\n",
      "Loaded cathedral.csv for image cathedral.jpg\n",
      "Loaded harvesters.csv for image harvesters.jpg\n",
      "Loaded self_portrait.csv for image self_portrait.jpg\n",
      "Loaded siren.csv for image siren.jpg\n"
     ]
    }
   ],
   "source": [
    "import os\n",
    "import pandas as pd\n",
    "images_folder = \"images\"\n",
    "data_folder = \"/Users/wangzimu/Desktop/good\"\n",
    "\n",
    "# Get all file names (filter common image types)\n",
    "images = [f for f in os.listdir(images_folder) if f.lower().endswith((\".jpg\"))]\n",
    "files = [f for f in os.listdir(data_folder) if f.lower().endswith((\".csv\"))]\n",
    "\n",
    "dataframes = {}\n",
    "for image in images:\n",
    "    for file in files:\n",
    "        if image.split('.')[0] == file.split('.')[0]:  # Match based on the image name without extension\n",
    "            df = pd.read_csv(os.path.join(data_folder, file))\n",
    "            n = len(df)\n",
    "            shift_g, corr_g = df['shift'].iloc[n//2-1], int(df['correlation'].iloc[n//2-1])\n",
    "            shift_r, corr_r = df['shift'].iloc[n-1], int(df['correlation'].iloc[n-1])\n",
    "            info = f\"Green Channel - Shift: {shift_g}, Correlation: {corr_g}; Red Channel - Shift: {shift_r}, Correlation: {corr_r}\"\n",
    "            dataframes[image] = info\n",
    "            print(f\"Loaded {file} for image {image}\")\n",
    "            break\n",
    "\n",
    "\n"
   ]
  },
  {
   "cell_type": "code",
   "execution_count": 9,
   "id": "123afeed",
   "metadata": {},
   "outputs": [
    {
     "data": {
      "text/plain": [
       "{'zimu_selection_3.jpg': 'Green Channel - Shift: (5, 2), Correlation: 22864; Red Channel - Shift: (11, 4), Correlation: 22685',\n",
       " 'zimu_selection_2.jpg': 'Green Channel - Shift: (4, 1), Correlation: 27089; Red Channel - Shift: (9, -1), Correlation: 28084',\n",
       " 'icon.jpg': 'Green Channel - Shift: (40, 16), Correlation: 850900; Red Channel - Shift: (89, 23), Correlation: 1012585',\n",
       " 'lastochikino.jpg': 'Green Channel - Shift: (-2, -2), Correlation: 1336986; Red Channel - Shift: (75, -9), Correlation: 700993',\n",
       " 'zimu_selection_1.jpg': 'Green Channel - Shift: (6, 1), Correlation: 22966; Red Channel - Shift: (13, 0), Correlation: 25044',\n",
       " 'melons.jpg': 'Green Channel - Shift: (78, 5), Correlation: 1446210; Red Channel - Shift: (175, 11), Correlation: 1849632',\n",
       " 'lugano.jpg': 'Green Channel - Shift: (39, -14), Correlation: 1221218; Red Channel - Shift: (92, -29), Correlation: 1592663',\n",
       " 'monastery.jpg': 'Green Channel - Shift: (-3, 2), Correlation: 18146; Red Channel - Shift: (3, 2), Correlation: 14388',\n",
       " 'italil.jpg': 'Green Channel - Shift: (38, 21), Correlation: 1822799; Red Channel - Shift: (75, 35), Correlation: 2306348',\n",
       " 'three_generations.jpg': 'Green Channel - Shift: (46, 3), Correlation: 511189; Red Channel - Shift: (111, 8), Correlation: 1178058',\n",
       " 'church.jpg': 'Green Channel - Shift: (15, -2), Correlation: 454390; Red Channel - Shift: (59, -3), Correlation: 625219',\n",
       " 'tobolsk.jpg': 'Green Channel - Shift: (3, 2), Correlation: 20324; Red Channel - Shift: (6, 3), Correlation: 14833',\n",
       " 'emir.jpg': 'Green Channel - Shift: (9, -1), Correlation: 643848; Red Channel - Shift: (65, 19), Correlation: 845332',\n",
       " 'cathedral.jpg': 'Green Channel - Shift: (5, 2), Correlation: 27149; Red Channel - Shift: (12, 3), Correlation: 27097',\n",
       " 'harvesters.jpg': 'Green Channel - Shift: (59, 13), Correlation: 1191884; Red Channel - Shift: (121, 11), Correlation: 1229294',\n",
       " 'self_portrait.jpg': 'Green Channel - Shift: (53, -1), Correlation: 894374; Red Channel - Shift: (143, -5), Correlation: 1006999',\n",
       " 'siren.jpg': 'Green Channel - Shift: (47, -7), Correlation: 941542; Red Channel - Shift: (95, -23), Correlation: 1013529'}"
      ]
     },
     "execution_count": 9,
     "metadata": {},
     "output_type": "execute_result"
    }
   ],
   "source": [
    "dataframes"
   ]
  },
  {
   "cell_type": "code",
   "execution_count": null,
   "id": "29b3dd95",
   "metadata": {},
   "outputs": [],
   "source": []
  }
 ],
 "metadata": {
  "kernelspec": {
   "display_name": "base",
   "language": "python",
   "name": "python3"
  },
  "language_info": {
   "codemirror_mode": {
    "name": "ipython",
    "version": 3
   },
   "file_extension": ".py",
   "mimetype": "text/x-python",
   "name": "python",
   "nbconvert_exporter": "python",
   "pygments_lexer": "ipython3",
   "version": "3.12.7"
  }
 },
 "nbformat": 4,
 "nbformat_minor": 5
}
